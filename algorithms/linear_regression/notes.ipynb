{
 "cells": [
  {
   "cell_type": "markdown",
   "id": "a37c1a82",
   "metadata": {
    "vscode": {
     "languageId": "plaintext"
    }
   },
   "source": [
    "## Linear Regression"
   ]
  },
  {
   "cell_type": "markdown",
   "id": "6e7c06c8",
   "metadata": {},
   "source": [
    "### What is Linear Regression ?"
   ]
  },
  {
   "cell_type": "markdown",
   "id": "8d212bb1",
   "metadata": {},
   "source": [
    "- It is a **supervised learning algorithm**.\n",
    "- It is used to **model the relationship between a dependent variable (target) and one or more independent variables (features)** by fitting a linear equation."
   ]
  },
  {
   "cell_type": "markdown",
   "id": "7145288d",
   "metadata": {},
   "source": [
    "### Mathematical Formulation"
   ]
  },
  {
   "cell_type": "markdown",
   "id": "fbeece47",
   "metadata": {},
   "source": [
    "#### Simple Linear Regression (SLR)"
   ]
  },
  {
   "cell_type": "markdown",
   "id": "88aa6cf6",
   "metadata": {},
   "source": [
    "Involves one independent variable:\n",
    "$$\n",
    "y = \\beta_0 + \\beta_1 x + \\varepsilon\n",
    "$$\n",
    "- $y$: Dependent variable (target/output)\n",
    "- $x$: Independent variable (feature/input)\n",
    "- $\\beta_0$: Intercept\n",
    "- $\\beta_1$: Slope\n",
    "- $\\varepsilon$: Error term (residual)"
   ]
  },
  {
   "cell_type": "markdown",
   "id": "bd02329f",
   "metadata": {},
   "source": [
    "#### Multiple Linear Regression (MLR)"
   ]
  },
  {
   "cell_type": "markdown",
   "id": "dae63773",
   "metadata": {},
   "source": [
    "Involves two or more than two independent variables:\n",
    "$$\n",
    "y = \\beta_0 + \\beta_1 x_1 + \\beta_2 x_2 + ............... + \\beta_n x_n +\\varepsilon\n",
    "$$"
   ]
  },
  {
   "cell_type": "markdown",
   "id": "94cce6e1",
   "metadata": {},
   "source": [
    "### Goal of Linear Regression"
   ]
  },
  {
   "cell_type": "markdown",
   "id": "df4ffe1b",
   "metadata": {},
   "source": [
    "Minimize the difference betweeen actual and predicted values which is also known as error/residual, typically using **Ordinary Least Squares (OLS)**:\n",
    "\n",
    "Minimize\n",
    "$$\n",
    "\\min \\sum_{i=1}^{n} (y_i - \\hat{y}_i)^2\n",
    "$$\n",
    "\n",
    "Where:\n",
    "- $y_i$: Actual values\n",
    "- $\\hat{y}_i$: Predicted values"
   ]
  },
  {
   "cell_type": "markdown",
   "id": "a708be8a",
   "metadata": {},
   "source": [
    "### Assumptions of Linear Regression"
   ]
  },
  {
   "cell_type": "markdown",
   "id": "2af29bce",
   "metadata": {},
   "source": [
    "1. **Linearity**: The relationship between predictors and target is linear.\n",
    "2. **Independence**: Residuals (errors) are independent of each other.\n",
    "3. **Homoscedasticity**: Constant variance of errors.\n",
    "4. **Normality of Errors**: Residuals are normally distributed.\n",
    "5. **No multicollinearity (for MLR)**: Independent variables are not highly correlated."
   ]
  },
  {
   "cell_type": "markdown",
   "id": "d0e4f174",
   "metadata": {},
   "source": [
    "### Model Evaluation Metrics"
   ]
  },
  {
   "cell_type": "markdown",
   "id": "f8b9853c",
   "metadata": {},
   "source": [
    "- **$R^2$ (Coefficient of Determination)**\n",
    "\n",
    "Measures proportion of variance explained by the model:\n",
    "\n",
    "$$\n",
    "R^2 = 1 - \\frac{SS_{\\text{res}}}{SS_{\\text{tot}}}\n",
    "$$\n",
    "\n",
    "- **MAE (Mean Absolute Error)**\n",
    "\n",
    "Average of absolute differences between predictors and actual values.\n",
    "\n",
    "$$\n",
    "\\text{MAE} = \\frac{1}{n} \\sum_{i=1}^{n} |y_i - x_i|\n",
    "$$\n",
    "\n",
    "- **MSE (Mean Squared Error)**\n",
    "\n",
    "MSE measures the average of the squared differences between actual and predicted values. It's more sensitive to outliers than MAE.\n",
    "\n",
    "$$\n",
    "\\text{MSE} = \\frac{1}{n} \\sum_{i=1}^{n} (y_i - \\hat{y}_i)^2\n",
    "$$\n",
    "\n",
    "- **RMSE (Root Mean Squared Error)**\n",
    "\n",
    "RMSE is the square root of the Mean Squared Error. It retains the same unit as the target variable and penalizes larger errors more heavily than MAE.\n",
    "\n"
   ]
  },
  {
   "cell_type": "markdown",
   "id": "5b48d7c8",
   "metadata": {},
   "source": [
    "### Advantages"
   ]
  },
  {
   "cell_type": "markdown",
   "id": "f9ddba22",
   "metadata": {},
   "source": [
    "- Easy to implement and interpret.\n",
    "- Computationally efficient.\n",
    "- Works well when assumptions hold.\n",
    "- Good baseline for regression problems."
   ]
  },
  {
   "cell_type": "markdown",
   "id": "bf96af97",
   "metadata": {},
   "source": [
    "### Disadvantages"
   ]
  },
  {
   "cell_type": "markdown",
   "id": "82d93db1",
   "metadata": {},
   "source": [
    "- Prone to **underfitting** in complex/nonlinear datasets.\n",
    "- Assumes linear **relationships only**.\n",
    "- Sensitive to **outliers**.\n",
    "- Poor performance in the presence of **multicollinearily**."
   ]
  },
  {
   "cell_type": "markdown",
   "id": "16eb4d32",
   "metadata": {
    "vscode": {
     "languageId": "plaintext"
    }
   },
   "source": [
    "### Use Cases in Data Science"
   ]
  },
  {
   "cell_type": "markdown",
   "id": "4111d3b8",
   "metadata": {},
   "source": [
    "- **Forecasting** (e.g., sales, temperature, demand)\n",
    "- **Risk assessment** (e.g., credit scoring)\n",
    "- **Medical prediction** (e.g., patient health outcomes)\n",
    "- **Economic modeling** (e.g., housing price estimation)"
   ]
  },
  {
   "cell_type": "markdown",
   "id": "2ea4ed82",
   "metadata": {},
   "source": [
    "### Next Steps"
   ]
  },
  {
   "cell_type": "markdown",
   "id": "7f84c65e",
   "metadata": {},
   "source": [
    "- Learn **Regularized Linear Models: Ridge, Lasso, and ElasticNet**\n",
    "- Use **Residual Plots** and **Q-Q plots** for diagnostic analysis\n",
    "- Understand the **Bias-Variance tradeoff**\n",
    "- **Integrate with Pipelines and Cross-validation** for robust ML workflows"
   ]
  }
 ],
 "metadata": {
  "language_info": {
   "name": "python"
  }
 },
 "nbformat": 4,
 "nbformat_minor": 5
}
